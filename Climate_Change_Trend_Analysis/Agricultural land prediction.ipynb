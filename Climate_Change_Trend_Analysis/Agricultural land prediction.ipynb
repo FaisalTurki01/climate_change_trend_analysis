{
 "cells": [
  {
   "cell_type": "code",
   "execution_count": 209,
   "id": "16d83a8c",
   "metadata": {},
   "outputs": [],
   "source": [
    "import pandas as pd\n",
    "pd.options.mode.chained_assignment = None  # default='warn'\n",
    "import numpy as np\n",
    "import seaborn as sb\n",
    "import sklearn\n",
    "from sklearn.model_selection import train_test_split\n",
    "from sklearn.linear_model import LinearRegression\n",
    "from sklearn.metrics import mean_squared_error, r2_score\n",
    "import matplotlib.pyplot as plt\n",
    "from statsmodels.tsa.stattools import acf, pacf\n",
    "from statsmodels.tsa.statespace.sarimax import SARIMAX\n",
    "from datetime import datetime\n",
    "from datetime import timedelta\n",
    "from time import time\n",
    "%matplotlib inline"
   ]
  },
  {
   "cell_type": "code",
   "execution_count": 210,
   "id": "66695216",
   "metadata": {},
   "outputs": [],
   "source": [
    "f = pd.read_csv(r\"C:\\Users\\ixf9o\\Desktop\\climate_change_project\\share-of-land-area-used-for-agriculture.csv\", parse_dates = True)"
   ]
  },
  {
   "cell_type": "code",
   "execution_count": 211,
   "id": "1b268633",
   "metadata": {},
   "outputs": [],
   "source": [
    "f =f.loc[f['Code'] == 'SAU']"
   ]
  },
  {
   "cell_type": "code",
   "execution_count": 212,
   "id": "fcd7ab62",
   "metadata": {},
   "outputs": [],
   "source": [
    "f = f[['Year' ,\"Agricultural land (% of land area)\"]]"
   ]
  },
  {
   "cell_type": "code",
   "execution_count": 213,
   "id": "1ac704db",
   "metadata": {},
   "outputs": [
    {
     "data": {
      "text/html": [
       "<div>\n",
       "<style scoped>\n",
       "    .dataframe tbody tr th:only-of-type {\n",
       "        vertical-align: middle;\n",
       "    }\n",
       "\n",
       "    .dataframe tbody tr th {\n",
       "        vertical-align: top;\n",
       "    }\n",
       "\n",
       "    .dataframe thead th {\n",
       "        text-align: right;\n",
       "    }\n",
       "</style>\n",
       "<table border=\"1\" class=\"dataframe\">\n",
       "  <thead>\n",
       "    <tr style=\"text-align: right;\">\n",
       "      <th></th>\n",
       "      <th>Year</th>\n",
       "      <th>Agricultural land (% of land area)</th>\n",
       "    </tr>\n",
       "  </thead>\n",
       "  <tbody>\n",
       "    <tr>\n",
       "      <th>9416</th>\n",
       "      <td>1961</td>\n",
       "      <td>40.084850</td>\n",
       "    </tr>\n",
       "    <tr>\n",
       "      <th>9417</th>\n",
       "      <td>1962</td>\n",
       "      <td>40.094154</td>\n",
       "    </tr>\n",
       "    <tr>\n",
       "      <th>9418</th>\n",
       "      <td>1963</td>\n",
       "      <td>40.104385</td>\n",
       "    </tr>\n",
       "    <tr>\n",
       "      <th>9419</th>\n",
       "      <td>1964</td>\n",
       "      <td>40.117878</td>\n",
       "    </tr>\n",
       "    <tr>\n",
       "      <th>9420</th>\n",
       "      <td>1965</td>\n",
       "      <td>40.127647</td>\n",
       "    </tr>\n",
       "  </tbody>\n",
       "</table>\n",
       "</div>"
      ],
      "text/plain": [
       "      Year  Agricultural land (% of land area)\n",
       "9416  1961                           40.084850\n",
       "9417  1962                           40.094154\n",
       "9418  1963                           40.104385\n",
       "9419  1964                           40.117878\n",
       "9420  1965                           40.127647"
      ]
     },
     "execution_count": 213,
     "metadata": {},
     "output_type": "execute_result"
    }
   ],
   "source": [
    "f.head()"
   ]
  },
  {
   "cell_type": "code",
   "execution_count": 214,
   "id": "5e82d729",
   "metadata": {},
   "outputs": [],
   "source": [
    "x = f.loc[:,['Year']]"
   ]
  },
  {
   "cell_type": "code",
   "execution_count": 215,
   "id": "c796f9c7",
   "metadata": {},
   "outputs": [],
   "source": [
    "y = f.loc[:,[\"Agricultural land (% of land area)\"]]"
   ]
  },
  {
   "cell_type": "code",
   "execution_count": 216,
   "id": "9cc39264",
   "metadata": {},
   "outputs": [],
   "source": [
    "x_train,x_test,y_train,y_test=train_test_split(x,y,test_size=0.2,random_state=123)"
   ]
  },
  {
   "cell_type": "code",
   "execution_count": 217,
   "id": "baab66db",
   "metadata": {},
   "outputs": [
    {
     "name": "stdout",
     "output_type": "stream",
     "text": [
      "Coff: [[1.00027367]]\n",
      "Intercept: [-1930.44853121]\n",
      "MSE: 43.695179964683206\n",
      "r2_score: 0.8365420889047245\n"
     ]
    }
   ],
   "source": [
    "regr = LinearRegression()\n",
    "\n",
    "regr.fit(x_train, y_train)\n",
    "\n",
    "pred = regr.predict(x_test)\n",
    "\n",
    "print('Coff:', regr.coef_)\n",
    "print('Intercept:', regr.intercept_)\n",
    "\n",
    "print('MSE:', mean_squared_error(y_test, pred))\n",
    "print('r2_score:', r2_score(y_test, pred))"
   ]
  },
  {
   "cell_type": "code",
   "execution_count": 220,
   "id": "00f31632",
   "metadata": {},
   "outputs": [
    {
     "data": {
      "image/png": "[encoded data removed]",
      "text/plain": [
       "<Figure size 640x480 with 1 Axes>"
      ]
     },
     "metadata": {},
     "output_type": "display_data"
    }
   ],
   "source": [
    "plt.scatter(x_test, y_test, color='red')\n",
    "plt.xlabel('Year')\n",
    "plt.ylabel('Agricultural land (% of land area)')\n",
    "plt.plot(x_test, pred, color = 'blue', linewidth=3)\n",
    "\n",
    "plt.show()"
   ]
  },
  {
   "cell_type": "code",
   "execution_count": null,
   "id": "fd5d8a78",
   "metadata": {},
   "outputs": [],
   "source": []
  }
 ],
 "metadata": {
  "kernelspec": {
   "display_name": "Python 3 (ipykernel)",
   "language": "python",
   "name": "python3"
  },
  "language_info": {
   "codemirror_mode": {
    "name": "ipython",
    "version": 3
   },
   "file_extension": ".py",
   "mimetype": "text/x-python",
   "name": "python",
   "nbconvert_exporter": "python",
   "pygments_lexer": "ipython3",
   "version": "3.9.13"
  }
 },
 "nbformat": 4,
 "nbformat_minor": 5
}
