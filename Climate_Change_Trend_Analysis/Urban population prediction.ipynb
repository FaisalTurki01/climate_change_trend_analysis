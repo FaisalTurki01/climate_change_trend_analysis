{
 "cells": [
  {
   "cell_type": "code",
   "execution_count": 9,
   "id": "4a98bc44",
   "metadata": {},
   "outputs": [],
   "source": [
    "import pandas as pd\n",
    "pd.options.mode.chained_assignment = None  # default='warn'\n",
    "import numpy as np\n",
    "import seaborn as sb\n",
    "import sklearn\n",
    "from sklearn.model_selection import train_test_split\n",
    "from sklearn.linear_model import LinearRegression\n",
    "from sklearn.metrics import mean_squared_error, r2_score\n",
    "import matplotlib.pyplot as plt\n",
    "from statsmodels.tsa.stattools import acf, pacf\n",
    "from statsmodels.tsa.statespace.sarimax import SARIMAX\n",
    "from datetime import datetime\n",
    "from datetime import timedelta\n",
    "from time import time\n",
    "%matplotlib inline"
   ]
  },
  {
   "cell_type": "code",
   "execution_count": 10,
   "id": "8af95867",
   "metadata": {},
   "outputs": [],
   "source": [
    "z = pd.read_csv(r\"C:\\Users\\ixf9o\\Desktop\\climate_change_project\\urban-population-share-2050.csv\",  parse_dates = True )\n",
    "f = pd.read_csv(r\"C:\\Users\\ixf9o\\Desktop\\climate_change_project\\share-of-land-area-used-for-agriculture.csv\", parse_dates = True)"
   ]
  },
  {
   "cell_type": "code",
   "execution_count": 11,
   "id": "624e9078",
   "metadata": {},
   "outputs": [],
   "source": [
    " z =z.loc[z['Code'] == 'SAU']"
   ]
  },
  {
   "cell_type": "code",
   "execution_count": 12,
   "id": "833cee82",
   "metadata": {},
   "outputs": [],
   "source": [
    "z = z[['Year' ,\"Urban population (%) long-run with 2050 projections (OWID)\"]]"
   ]
  },
  {
   "cell_type": "code",
   "execution_count": 13,
   "id": "279d48f4",
   "metadata": {},
   "outputs": [
    {
     "data": {
      "text/html": [
       "<div>\n",
       "<style scoped>\n",
       "    .dataframe tbody tr th:only-of-type {\n",
       "        vertical-align: middle;\n",
       "    }\n",
       "\n",
       "    .dataframe tbody tr th {\n",
       "        vertical-align: top;\n",
       "    }\n",
       "\n",
       "    .dataframe thead th {\n",
       "        text-align: right;\n",
       "    }\n",
       "</style>\n",
       "<table border=\"1\" class=\"dataframe\">\n",
       "  <thead>\n",
       "    <tr style=\"text-align: right;\">\n",
       "      <th></th>\n",
       "      <th>Year</th>\n",
       "      <th>Urban population (%) long-run with 2050 projections (OWID)</th>\n",
       "    </tr>\n",
       "  </thead>\n",
       "  <tbody>\n",
       "    <tr>\n",
       "      <th>21412</th>\n",
       "      <td>1950</td>\n",
       "      <td>21.300</td>\n",
       "    </tr>\n",
       "    <tr>\n",
       "      <th>21413</th>\n",
       "      <td>1951</td>\n",
       "      <td>22.182</td>\n",
       "    </tr>\n",
       "    <tr>\n",
       "      <th>21414</th>\n",
       "      <td>1952</td>\n",
       "      <td>23.091</td>\n",
       "    </tr>\n",
       "    <tr>\n",
       "      <th>21415</th>\n",
       "      <td>1953</td>\n",
       "      <td>24.023</td>\n",
       "    </tr>\n",
       "    <tr>\n",
       "      <th>21416</th>\n",
       "      <td>1954</td>\n",
       "      <td>24.982</td>\n",
       "    </tr>\n",
       "  </tbody>\n",
       "</table>\n",
       "</div>"
      ],
      "text/plain": [
       "       Year  Urban population (%) long-run with 2050 projections (OWID)\n",
       "21412  1950                                             21.300         \n",
       "21413  1951                                             22.182         \n",
       "21414  1952                                             23.091         \n",
       "21415  1953                                             24.023         \n",
       "21416  1954                                             24.982         "
      ]
     },
     "execution_count": 13,
     "metadata": {},
     "output_type": "execute_result"
    }
   ],
   "source": [
    "z.head()"
   ]
  },
  {
   "cell_type": "code",
   "execution_count": 14,
   "id": "ea50684b",
   "metadata": {},
   "outputs": [],
   "source": [
    "x = z.loc[:,['Year']]"
   ]
  },
  {
   "cell_type": "code",
   "execution_count": 15,
   "id": "d7dc094b",
   "metadata": {},
   "outputs": [],
   "source": [
    "y = z.loc[:,[\"Urban population (%) long-run with 2050 projections (OWID)\"]]"
   ]
  },
  {
   "cell_type": "code",
   "execution_count": 16,
   "id": "dcf6dc22",
   "metadata": {},
   "outputs": [],
   "source": [
    "x_train,x_test,y_train,y_test=train_test_split(x,y,test_size=0.2,random_state=123)"
   ]
  },
  {
   "cell_type": "code",
   "execution_count": 17,
   "id": "304b0aed",
   "metadata": {},
   "outputs": [
    {
     "name": "stdout",
     "output_type": "stream",
     "text": [
      "Coff: [[0.63269873]]\n",
      "Intercept: [-1195.67303148]\n",
      "MSE: 84.93704466434754\n",
      "r2_score: 0.8329706404478452\n",
      "r2_score: 0.8329706404478452\n"
     ]
    }
   ],
   "source": [
    "regr = LinearRegression()\n",
    "\n",
    "regr.fit(x_train, y_train)\n",
    "\n",
    "pred = regr.predict(x_test)\n",
    "\n",
    "print('Coff:', regr.coef_)\n",
    "print('Intercept:', regr.intercept_)\n",
    "\n",
    "print('MSE:', mean_squared_error(y_test, pred))\n",
    "print('r2_score:', r2_score(y_test, pred))\n",
    "print('r2_score:', regr.score(x_test, y_test ))\n",
    "#regr.predict([[2023]])"
   ]
  },
  {
   "cell_type": "code",
   "execution_count": 25,
   "id": "304b8e75",
   "metadata": {},
   "outputs": [
    {
     "data": {
      "image/png": "[encoded data removed]",
      "text/plain": [
       "<Figure size 640x480 with 1 Axes>"
      ]
     },
     "metadata": {},
     "output_type": "display_data"
    }
   ],
   "source": [
    "plt.xlabel('Year')\n",
    "plt.ylabel('Urban population (%) long-run with 2050 projections (OWID)')\n",
    "plt.scatter(x_test, y_test, color='red')\n",
    "plt.plot(x_test, pred, color = 'blue', linewidth=3)\n",
    "ax = plt.gca()\n",
    "ax.set_xlim([1970 ,2020])\n",
    "#ax.set_ylim([20,70 ])\n",
    "\n",
    "plt.show()"
   ]
  },
  {
   "cell_type": "code",
   "execution_count": null,
   "id": "d92a9438",
   "metadata": {},
   "outputs": [],
   "source": []
  }
 ],
 "metadata": {
  "kernelspec": {
   "display_name": "Python 3 (ipykernel)",
   "language": "python",
   "name": "python3"
  },
  "language_info": {
   "codemirror_mode": {
    "name": "ipython",
    "version": 3
   },
   "file_extension": ".py",
   "mimetype": "text/x-python",
   "name": "python",
   "nbconvert_exporter": "python",
   "pygments_lexer": "ipython3",
   "version": "3.9.13"
  }
 },
 "nbformat": 4,
 "nbformat_minor": 5
}
